{
 "cells": [
  {
   "cell_type": "code",
   "execution_count": 4,
   "id": "a8782d1d-4041-4f71-9fba-70b45605bd5c",
   "metadata": {},
   "outputs": [],
   "source": [
    "import numpy as np\n",
    "import yfinance  as yf\n",
    "import pandas as pd\n",
    "import matplotlib.pyplot as plt\n",
    "\n",
    "#tickers\n",
    "tickers = ['TAL', 'ANF', 'JPM', 'DLR', 'MSFT', 'NVO', 'LRN', 'WELL', 'META', 'SEPL.L', 'SQ', 'UBER']"
   ]
  },
  {
   "cell_type": "code",
   "execution_count": 5,
   "id": "313d9a67-30f8-4a5c-b927-bdd0c6329021",
   "metadata": {},
   "outputs": [
    {
     "name": "stderr",
     "output_type": "stream",
     "text": [
      "[*********************100%***********************]  12 of 12 completed\n",
      "[*********************100%***********************]  1 of 1 completed\n"
     ]
    },
    {
     "data": {
      "text/html": [
       "<div>\n",
       "<style scoped>\n",
       "    .dataframe tbody tr th:only-of-type {\n",
       "        vertical-align: middle;\n",
       "    }\n",
       "\n",
       "    .dataframe tbody tr th {\n",
       "        vertical-align: top;\n",
       "    }\n",
       "\n",
       "    .dataframe thead th {\n",
       "        text-align: right;\n",
       "    }\n",
       "</style>\n",
       "<table border=\"1\" class=\"dataframe\">\n",
       "  <thead>\n",
       "    <tr style=\"text-align: right;\">\n",
       "      <th>Ticker</th>\n",
       "      <th>SPY</th>\n",
       "    </tr>\n",
       "    <tr>\n",
       "      <th>Date</th>\n",
       "      <th></th>\n",
       "    </tr>\n",
       "  </thead>\n",
       "  <tbody>\n",
       "    <tr>\n",
       "      <th>2019-11-25</th>\n",
       "      <td>290.084625</td>\n",
       "    </tr>\n",
       "    <tr>\n",
       "      <th>2019-11-26</th>\n",
       "      <td>290.741821</td>\n",
       "    </tr>\n",
       "    <tr>\n",
       "      <th>2019-11-27</th>\n",
       "      <td>292.037842</td>\n",
       "    </tr>\n",
       "    <tr>\n",
       "      <th>2019-11-29</th>\n",
       "      <td>290.954742</td>\n",
       "    </tr>\n",
       "    <tr>\n",
       "      <th>2019-12-02</th>\n",
       "      <td>288.483185</td>\n",
       "    </tr>\n",
       "  </tbody>\n",
       "</table>\n",
       "</div>"
      ],
      "text/plain": [
       "Ticker             SPY\n",
       "Date                  \n",
       "2019-11-25  290.084625\n",
       "2019-11-26  290.741821\n",
       "2019-11-27  292.037842\n",
       "2019-11-29  290.954742\n",
       "2019-12-02  288.483185"
      ]
     },
     "execution_count": 5,
     "metadata": {},
     "output_type": "execute_result"
    }
   ],
   "source": [
    "#portfolio data for past 5 yrs \n",
    "portfolio = yf.download(tickers, start = \"2019-11-23\", end = \"2024-11-23\")['Adj Close']\n",
    "portfolio.head()\n",
    "#SP500 benchmark for past 5 yrs\n",
    "market_prices = yf.download(\"SPY\", start = \"2019-11-23\", end = \"2024-11-23\")['Adj Close']\n",
    "market_prices.head()"
   ]
  },
  {
   "cell_type": "code",
   "execution_count": 6,
   "id": "a815e8dc-145e-449b-af42-e1b887565428",
   "metadata": {},
   "outputs": [
    {
     "data": {
      "text/plain": [
       "{'TAL': 6248284160,\n",
       " 'ANF': 7540035072,\n",
       " 'JPM': 703244009472,\n",
       " 'DLR': 66026000384,\n",
       " 'MSFT': 3148374343680,\n",
       " 'NVO': 464527687680,\n",
       " 'LRN': 4666147328,\n",
       " 'WELL': 86740697088,\n",
       " 'META': 1436937093120,\n",
       " 'SEPL.L': 1546022144,\n",
       " 'SQ': 55027097600,\n",
       " 'UBER': 151526883328}"
      ]
     },
     "execution_count": 6,
     "metadata": {},
     "output_type": "execute_result"
    }
   ],
   "source": [
    "#market caps\n",
    "mcaps = {}\n",
    "for t in tickers:\n",
    "    stock = yf.Ticker(t)\n",
    "    mcaps[t] = stock.info[\"marketCap\"]\n",
    "mcaps"
   ]
  },
  {
   "cell_type": "code",
   "execution_count": 7,
   "id": "bfb4ecac-02d2-4887-8c74-8c2101b3dd22",
   "metadata": {},
   "outputs": [
    {
     "ename": "NameError",
     "evalue": "name 'risk_models' is not defined",
     "output_type": "error",
     "traceback": [
      "\u001b[1;31m---------------------------------------------------------------------------\u001b[0m",
      "\u001b[1;31mNameError\u001b[0m                                 Traceback (most recent call last)",
      "Cell \u001b[1;32mIn[7], line 2\u001b[0m\n\u001b[0;32m      1\u001b[0m \u001b[38;5;66;03m#using ledoit-wolf covariance shrinkage for implied market returns\u001b[39;00m\n\u001b[1;32m----> 2\u001b[0m S \u001b[38;5;241m=\u001b[39m \u001b[43mrisk_models\u001b[49m\u001b[38;5;241m.\u001b[39mCovarianceShrinkage(portfolio)\u001b[38;5;241m.\u001b[39mledoit_wolf()\n\u001b[0;32m      3\u001b[0m delta \u001b[38;5;241m=\u001b[39m black_litterman\u001b[38;5;241m.\u001b[39mmarket_implied_risk_aversion(market_prices)\n\u001b[0;32m      4\u001b[0m delta\n",
      "\u001b[1;31mNameError\u001b[0m: name 'risk_models' is not defined"
     ]
    }
   ],
   "source": [
    "#using ledoit-wolf covariance shrinkage for implied market returns\n",
    "S = risk_models.CovarianceShrinkage(portfolio).ledoit_wolf()\n",
    "delta = black_litterman.market_implied_risk_aversion(market_prices)\n",
    "delta"
   ]
  },
  {
   "cell_type": "code",
   "execution_count": null,
   "id": "c0867f2e-d124-48fc-9c33-3212b9ed51e8",
   "metadata": {},
   "outputs": [],
   "source": [
    "sns.heatmap(S.corr(), cmap='coolwarm')"
   ]
  }
 ],
 "metadata": {
  "kernelspec": {
   "display_name": "Python 3 (ipykernel)",
   "language": "python",
   "name": "python3"
  },
  "language_info": {
   "codemirror_mode": {
    "name": "ipython",
    "version": 3
   },
   "file_extension": ".py",
   "mimetype": "text/x-python",
   "name": "python",
   "nbconvert_exporter": "python",
   "pygments_lexer": "ipython3",
   "version": "3.10.6"
  }
 },
 "nbformat": 4,
 "nbformat_minor": 5
}
