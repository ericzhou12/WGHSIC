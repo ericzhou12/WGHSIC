{
 "cells": [
  {
   "cell_type": "code",
   "execution_count": 72,
   "id": "a8782d1d-4041-4f71-9fba-70b45605bd5c",
   "metadata": {},
   "outputs": [],
   "source": [
    "import numpy as np\n",
    "import yfinance  as yf\n",
    "import pandas as pd\n",
    "import matplotlib.pyplot as plt\n",
    "import pypfopt\n",
    "import seaborn as sns\n",
    "import plotly.express as px\n",
    "\n",
    "#tickers\n",
    "tickers = ['TAL', 'ANF', 'JPM', 'DLR', 'MSFT', 'NVO', 'LRN', 'WELL', 'META', 'SEPL.L', 'SQ', 'UBER']"
   ]
  },
  {
   "cell_type": "code",
   "execution_count": 73,
   "id": "313d9a67-30f8-4a5c-b927-bdd0c6329021",
   "metadata": {},
   "outputs": [
    {
     "name": "stderr",
     "output_type": "stream",
     "text": [
      "[*********************100%***********************]  12 of 12 completed\n"
     ]
    },
    {
     "data": {
      "text/html": [
       "<div>\n",
       "<style scoped>\n",
       "    .dataframe tbody tr th:only-of-type {\n",
       "        vertical-align: middle;\n",
       "    }\n",
       "\n",
       "    .dataframe tbody tr th {\n",
       "        vertical-align: top;\n",
       "    }\n",
       "\n",
       "    .dataframe thead th {\n",
       "        text-align: right;\n",
       "    }\n",
       "</style>\n",
       "<table border=\"1\" class=\"dataframe\">\n",
       "  <thead>\n",
       "    <tr style=\"text-align: right;\">\n",
       "      <th>Ticker</th>\n",
       "      <th>ANF</th>\n",
       "      <th>DLR</th>\n",
       "      <th>JPM</th>\n",
       "      <th>LRN</th>\n",
       "      <th>META</th>\n",
       "      <th>MSFT</th>\n",
       "      <th>NVO</th>\n",
       "      <th>SEPL.L</th>\n",
       "      <th>SQ</th>\n",
       "      <th>TAL</th>\n",
       "      <th>UBER</th>\n",
       "      <th>WELL</th>\n",
       "    </tr>\n",
       "    <tr>\n",
       "      <th>Date</th>\n",
       "      <th></th>\n",
       "      <th></th>\n",
       "      <th></th>\n",
       "      <th></th>\n",
       "      <th></th>\n",
       "      <th></th>\n",
       "      <th></th>\n",
       "      <th></th>\n",
       "      <th></th>\n",
       "      <th></th>\n",
       "      <th></th>\n",
       "      <th></th>\n",
       "    </tr>\n",
       "  </thead>\n",
       "  <tbody>\n",
       "    <tr>\n",
       "      <th>2019-11-25</th>\n",
       "      <td>15.904396</td>\n",
       "      <td>99.005722</td>\n",
       "      <td>113.796432</td>\n",
       "      <td>20.150000</td>\n",
       "      <td>199.190247</td>\n",
       "      <td>144.649292</td>\n",
       "      <td>26.328163</td>\n",
       "      <td>62.099529</td>\n",
       "      <td>68.250000</td>\n",
       "      <td>43.889999</td>\n",
       "      <td>29.110001</td>\n",
       "      <td>70.680405</td>\n",
       "    </tr>\n",
       "    <tr>\n",
       "      <th>2019-11-26</th>\n",
       "      <td>15.495342</td>\n",
       "      <td>100.947334</td>\n",
       "      <td>113.952171</td>\n",
       "      <td>19.459999</td>\n",
       "      <td>198.372711</td>\n",
       "      <td>145.414474</td>\n",
       "      <td>26.328163</td>\n",
       "      <td>61.459305</td>\n",
       "      <td>68.940002</td>\n",
       "      <td>43.930000</td>\n",
       "      <td>29.530001</td>\n",
       "      <td>71.844376</td>\n",
       "    </tr>\n",
       "    <tr>\n",
       "      <th>2019-11-27</th>\n",
       "      <td>16.303709</td>\n",
       "      <td>101.432732</td>\n",
       "      <td>114.289726</td>\n",
       "      <td>19.850000</td>\n",
       "      <td>201.393616</td>\n",
       "      <td>145.691879</td>\n",
       "      <td>26.379652</td>\n",
       "      <td>61.459305</td>\n",
       "      <td>69.650002</td>\n",
       "      <td>45.200001</td>\n",
       "      <td>29.490000</td>\n",
       "      <td>72.914902</td>\n",
       "    </tr>\n",
       "    <tr>\n",
       "      <th>2019-11-28</th>\n",
       "      <td>16.303709</td>\n",
       "      <td>101.432732</td>\n",
       "      <td>114.289726</td>\n",
       "      <td>19.850000</td>\n",
       "      <td>201.393616</td>\n",
       "      <td>145.691879</td>\n",
       "      <td>26.379652</td>\n",
       "      <td>60.947163</td>\n",
       "      <td>69.650002</td>\n",
       "      <td>45.200001</td>\n",
       "      <td>29.490000</td>\n",
       "      <td>72.914902</td>\n",
       "    </tr>\n",
       "    <tr>\n",
       "      <th>2019-11-29</th>\n",
       "      <td>15.553779</td>\n",
       "      <td>101.223518</td>\n",
       "      <td>114.030083</td>\n",
       "      <td>19.650000</td>\n",
       "      <td>201.034714</td>\n",
       "      <td>144.792770</td>\n",
       "      <td>26.281363</td>\n",
       "      <td>60.435005</td>\n",
       "      <td>69.120003</td>\n",
       "      <td>44.259998</td>\n",
       "      <td>29.600000</td>\n",
       "      <td>71.852875</td>\n",
       "    </tr>\n",
       "  </tbody>\n",
       "</table>\n",
       "</div>"
      ],
      "text/plain": [
       "Ticker            ANF         DLR         JPM        LRN        META  \\\n",
       "Date                                                                   \n",
       "2019-11-25  15.904396   99.005722  113.796432  20.150000  199.190247   \n",
       "2019-11-26  15.495342  100.947334  113.952171  19.459999  198.372711   \n",
       "2019-11-27  16.303709  101.432732  114.289726  19.850000  201.393616   \n",
       "2019-11-28  16.303709  101.432732  114.289726  19.850000  201.393616   \n",
       "2019-11-29  15.553779  101.223518  114.030083  19.650000  201.034714   \n",
       "\n",
       "Ticker            MSFT        NVO     SEPL.L         SQ        TAL       UBER  \\\n",
       "Date                                                                            \n",
       "2019-11-25  144.649292  26.328163  62.099529  68.250000  43.889999  29.110001   \n",
       "2019-11-26  145.414474  26.328163  61.459305  68.940002  43.930000  29.530001   \n",
       "2019-11-27  145.691879  26.379652  61.459305  69.650002  45.200001  29.490000   \n",
       "2019-11-28  145.691879  26.379652  60.947163  69.650002  45.200001  29.490000   \n",
       "2019-11-29  144.792770  26.281363  60.435005  69.120003  44.259998  29.600000   \n",
       "\n",
       "Ticker           WELL  \n",
       "Date                   \n",
       "2019-11-25  70.680405  \n",
       "2019-11-26  71.844376  \n",
       "2019-11-27  72.914902  \n",
       "2019-11-28  72.914902  \n",
       "2019-11-29  71.852875  "
      ]
     },
     "execution_count": 73,
     "metadata": {},
     "output_type": "execute_result"
    }
   ],
   "source": [
    "#portfolio data for past 5 yrs \n",
    "portfolio = yf.download(tickers, start = \"2019-11-23\", end = \"2024-11-23\")['Adj Close']\n",
    "portfolio.ffill(inplace=True)\n",
    "portfolio.head()"
   ]
  },
  {
   "cell_type": "code",
   "execution_count": 74,
   "id": "1a9b8cc9",
   "metadata": {},
   "outputs": [
    {
     "name": "stderr",
     "output_type": "stream",
     "text": [
      "[*********************100%***********************]  1 of 1 completed\n"
     ]
    },
    {
     "data": {
      "text/html": [
       "<div>\n",
       "<style scoped>\n",
       "    .dataframe tbody tr th:only-of-type {\n",
       "        vertical-align: middle;\n",
       "    }\n",
       "\n",
       "    .dataframe tbody tr th {\n",
       "        vertical-align: top;\n",
       "    }\n",
       "\n",
       "    .dataframe thead th {\n",
       "        text-align: right;\n",
       "    }\n",
       "</style>\n",
       "<table border=\"1\" class=\"dataframe\">\n",
       "  <thead>\n",
       "    <tr style=\"text-align: right;\">\n",
       "      <th>Ticker</th>\n",
       "      <th>SPY</th>\n",
       "    </tr>\n",
       "    <tr>\n",
       "      <th>Date</th>\n",
       "      <th></th>\n",
       "    </tr>\n",
       "  </thead>\n",
       "  <tbody>\n",
       "    <tr>\n",
       "      <th>2019-11-25</th>\n",
       "      <td>290.084564</td>\n",
       "    </tr>\n",
       "    <tr>\n",
       "      <th>2019-11-26</th>\n",
       "      <td>290.741852</td>\n",
       "    </tr>\n",
       "    <tr>\n",
       "      <th>2019-11-27</th>\n",
       "      <td>292.037781</td>\n",
       "    </tr>\n",
       "    <tr>\n",
       "      <th>2019-11-29</th>\n",
       "      <td>290.954742</td>\n",
       "    </tr>\n",
       "    <tr>\n",
       "      <th>2019-12-02</th>\n",
       "      <td>288.483246</td>\n",
       "    </tr>\n",
       "  </tbody>\n",
       "</table>\n",
       "</div>"
      ],
      "text/plain": [
       "Ticker             SPY\n",
       "Date                  \n",
       "2019-11-25  290.084564\n",
       "2019-11-26  290.741852\n",
       "2019-11-27  292.037781\n",
       "2019-11-29  290.954742\n",
       "2019-12-02  288.483246"
      ]
     },
     "execution_count": 74,
     "metadata": {},
     "output_type": "execute_result"
    }
   ],
   "source": [
    "#SP500 benchmark for past 5 yrs\n",
    "market_prices = yf.download(\"SPY\", start = \"2019-11-23\", end = \"2024-11-23\")['Adj Close']\n",
    "market_prices.head()"
   ]
  },
  {
   "cell_type": "code",
   "execution_count": 75,
   "id": "a815e8dc-145e-449b-af42-e1b887565428",
   "metadata": {},
   "outputs": [
    {
     "data": {
      "text/plain": [
       "{'TAL': 6248284160,\n",
       " 'ANF': 7540035072,\n",
       " 'JPM': 703244009472,\n",
       " 'DLR': 66026000384,\n",
       " 'MSFT': 3148374343680,\n",
       " 'NVO': 464527687680,\n",
       " 'LRN': 4666147328,\n",
       " 'WELL': 86740697088,\n",
       " 'META': 1436937093120,\n",
       " 'SEPL.L': 1546022144,\n",
       " 'SQ': 55027097600,\n",
       " 'UBER': 151526883328}"
      ]
     },
     "execution_count": 75,
     "metadata": {},
     "output_type": "execute_result"
    }
   ],
   "source": [
    "#market caps\n",
    "mcaps = {}\n",
    "for t in tickers:\n",
    "    stock = yf.Ticker(t)\n",
    "    mcaps[t] = stock.info[\"marketCap\"]\n",
    "mcaps"
   ]
  },
  {
   "cell_type": "code",
   "execution_count": 76,
   "id": "bfb4ecac-02d2-4887-8c74-8c2101b3dd22",
   "metadata": {},
   "outputs": [
    {
     "data": {
      "text/plain": [
       "Ticker\n",
       "SPY    3.335509\n",
       "dtype: float64"
      ]
     },
     "execution_count": 76,
     "metadata": {},
     "output_type": "execute_result"
    }
   ],
   "source": [
    "#using ledoit-wolf covariance shrinkage for implied market returns\n",
    "#S is covariance\n",
    "S = risk_models.CovarianceShrinkage(portfolio).ledoit_wolf()\n",
    "delta = black_litterman.market_implied_risk_aversion(market_prices)\n",
    "delta"
   ]
  },
  {
   "cell_type": "code",
   "execution_count": 77,
   "id": "c0867f2e-d124-48fc-9c33-3212b9ed51e8",
   "metadata": {},
   "outputs": [
    {
     "data": {
      "text/plain": [
       "<Axes: xlabel='Ticker', ylabel='Ticker'>"
      ]
     },
     "execution_count": 77,
     "metadata": {},
     "output_type": "execute_result"
    },
    {
     "data": {
      "image/png": "[encoded data removed]",
      "text/plain": [
       "<Figure size 640x480 with 2 Axes>"
      ]
     },
     "metadata": {},
     "output_type": "display_data"
    }
   ],
   "source": [
    "#covariance correlation heatmap\n",
    "sns.heatmap(S.corr(), cmap='coolwarm')"
   ]
  },
  {
   "cell_type": "code",
   "execution_count": 78,
   "id": "13706aec",
   "metadata": {},
   "outputs": [
    {
     "data": {
      "text/plain": [
       "Ticker\n",
       "ANF      NaN\n",
       "DLR      NaN\n",
       "JPM      NaN\n",
       "LRN      NaN\n",
       "META     NaN\n",
       "MSFT     NaN\n",
       "NVO      NaN\n",
       "SEPL.L   NaN\n",
       "SPY      NaN\n",
       "SQ       NaN\n",
       "TAL      NaN\n",
       "UBER     NaN\n",
       "WELL     NaN\n",
       "dtype: float64"
      ]
     },
     "execution_count": 78,
     "metadata": {},
     "output_type": "execute_result"
    }
   ],
   "source": [
    "#market priors\n",
    "market_prior = black_litterman.market_implied_prior_returns(mcaps, delta, S)\n",
    "market_prior"
   ]
  },
  {
   "cell_type": "code",
   "execution_count": 79,
   "id": "154d6ec0",
   "metadata": {},
   "outputs": [
    {
     "ename": "SyntaxError",
     "evalue": "expression expected after dictionary key and ':' (1253476498.py, line 3)",
     "output_type": "error",
     "traceback": [
      "\u001b[1;36m  Cell \u001b[1;32mIn[79], line 3\u001b[1;36m\u001b[0m\n\u001b[1;33m    'ANF':\u001b[0m\n\u001b[1;37m         ^\u001b[0m\n\u001b[1;31mSyntaxError\u001b[0m\u001b[1;31m:\u001b[0m expression expected after dictionary key and ':'\n"
     ]
    }
   ],
   "source": [
    "#views\n",
    "viewdict = {\n",
    "    'ANF':\n",
    "}"
   ]
  }
 ],
 "metadata": {
  "kernelspec": {
   "display_name": "Python 3 (ipykernel)",
   "language": "python",
   "name": "python3"
  },
  "language_info": {
   "codemirror_mode": {
    "name": "ipython",
    "version": 3
   },
   "file_extension": ".py",
   "mimetype": "text/x-python",
   "name": "python",
   "nbconvert_exporter": "python",
   "pygments_lexer": "ipython3",
   "version": "3.10.6"
  }
 },
 "nbformat": 4,
 "nbformat_minor": 5
}
